{
 "cells": [
  {
   "cell_type": "markdown",
   "metadata": {},
   "source": [
    "浮点数（floating-point）：一种变量或值的类型，包含整数和小数。C++有几种浮点类型，本书使用的是double。初始化（initialization）：用于声明新变量并赋值的语句。函数（function）：命名的一组语句序列，执行某种功能。函数可带参数，也可不带，可返回结果，也可不返回。参数（parameter）：调用函数时提供给函数的信息。参数与变量很类似，它们含有值和类型。参数值（argument）：调用函数时提供给函数的值。参数值的类型必须与对应的参数类型相同。调用（call）：执行函数。"
   ]
  },
  {
   "cell_type": "code",
   "execution_count": null,
   "metadata": {},
   "outputs": [],
   "source": []
  },
  {
   "cell_type": "code",
   "execution_count": null,
   "metadata": {},
   "outputs": [],
   "source": []
  },
  {
   "cell_type": "code",
   "execution_count": null,
   "metadata": {},
   "outputs": [],
   "source": []
  },
  {
   "cell_type": "code",
   "execution_count": null,
   "metadata": {},
   "outputs": [],
   "source": []
  },
  {
   "cell_type": "code",
   "execution_count": null,
   "metadata": {},
   "outputs": [],
   "source": []
  },
  {
   "cell_type": "code",
   "execution_count": null,
   "metadata": {},
   "outputs": [],
   "source": []
  },
  {
   "cell_type": "code",
   "execution_count": null,
   "metadata": {},
   "outputs": [],
   "source": []
  }
 ],
 "metadata": {
  "kernelspec": {
   "display_name": "Python 3",
   "language": "python",
   "name": "python3"
  },
  "language_info": {
   "codemirror_mode": {
    "name": "ipython",
    "version": 3
   },
   "file_extension": ".py",
   "mimetype": "text/x-python",
   "name": "python",
   "nbconvert_exporter": "python",
   "pygments_lexer": "ipython3",
   "version": "3.6.5"
  }
 },
 "nbformat": 4,
 "nbformat_minor": 2
}
