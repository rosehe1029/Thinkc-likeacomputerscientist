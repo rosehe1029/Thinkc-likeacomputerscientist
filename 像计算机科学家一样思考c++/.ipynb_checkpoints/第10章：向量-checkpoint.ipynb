{
 "cells": [
  {
   "cell_type": "markdown",
   "metadata": {},
   "source": [
    "向量（vector）：一连串具有相同类型的数值集合，每个值可以通过索引进行访问。元素（elements）：向量中的一个值，可以通过[ ]操作符选择向量中的元素。索引（index）：用于确定向量中元素的整型数变量或整型值。构造函数（constructor）：用于创建新对象并初始化实例变量的特殊函数。确定性（deterministic）：程序每一次运行的效果都是一致的。伪随机（pseudorandom）：一个随机出现的数字序列，但事实上是由可确定的运算方式生成的。随机数种子（seed）：用作初始化随机数序列的变量。使用相同是随机数种子将会产生相同的序列。自底向上设计（bottom-up design）：一种编程的方式，从一个很小、很常用的函数开始写，最后再组合它们用作解决更大问题。直方图（histogram）：一个包含整型数的向量，其中每个整型数用于统计特定范围内值的个数。"
   ]
  },
  {
   "cell_type": "code",
   "execution_count": null,
   "metadata": {},
   "outputs": [],
   "source": []
  }
 ],
 "metadata": {
  "kernelspec": {
   "display_name": "Python 3",
   "language": "python",
   "name": "python3"
  },
  "language_info": {
   "codemirror_mode": {
    "name": "ipython",
    "version": 3
   },
   "file_extension": ".py",
   "mimetype": "text/x-python",
   "name": "python",
   "nbconvert_exporter": "python",
   "pygments_lexer": "ipython3",
   "version": "3.6.5"
  }
 },
 "nbformat": 4,
 "nbformat_minor": 2
}
