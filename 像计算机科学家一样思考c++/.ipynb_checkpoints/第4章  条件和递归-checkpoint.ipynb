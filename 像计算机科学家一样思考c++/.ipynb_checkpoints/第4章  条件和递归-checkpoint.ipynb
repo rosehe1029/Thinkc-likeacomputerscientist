{
 "cells": [
  {
   "cell_type": "markdown",
   "metadata": {},
   "source": [
    "模（modulus）：一种用于整数的操作符，当一个数被另一个数除时得到余数。C++中用百分号(%)来表示。条件句（conditional）：一个语句块，由一些条件来决定是否执行。链（chaining）：一种依次连接多个条件语句的方式。嵌套（nesting）：把一个条件语句放在另一个条件语句的一个或两个分支中。递归（recursion）：调用你当前正在执行的同一函数的过程。无穷递归（infinite recursion）：一个函数递归调用它自身，永远不能到达基础情况。最终无穷递归会导致运行时错误。"
   ]
  },
  {
   "cell_type": "code",
   "execution_count": null,
   "metadata": {},
   "outputs": [],
   "source": []
  },
  {
   "cell_type": "code",
   "execution_count": null,
   "metadata": {},
   "outputs": [],
   "source": []
  },
  {
   "cell_type": "code",
   "execution_count": null,
   "metadata": {},
   "outputs": [],
   "source": []
  },
  {
   "cell_type": "code",
   "execution_count": null,
   "metadata": {},
   "outputs": [],
   "source": []
  },
  {
   "cell_type": "code",
   "execution_count": null,
   "metadata": {},
   "outputs": [],
   "source": []
  }
 ],
 "metadata": {
  "kernelspec": {
   "display_name": "Python 3",
   "language": "python",
   "name": "python3"
  },
  "language_info": {
   "codemirror_mode": {
    "name": "ipython",
    "version": 3
   },
   "file_extension": ".py",
   "mimetype": "text/x-python",
   "name": "python",
   "nbconvert_exporter": "python",
   "pygments_lexer": "ipython3",
   "version": "3.6.5"
  }
 },
 "nbformat": 4,
 "nbformat_minor": 2
}
