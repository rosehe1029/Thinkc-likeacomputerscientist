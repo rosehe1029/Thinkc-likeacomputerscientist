{
 "cells": [
  {
   "cell_type": "markdown",
   "metadata": {},
   "source": [
    "对象（object）：关联数据及操作数据的函数的组合。到目前为止我们用过的对象有cout和apstring，其中cout是由系统提供的。索引（index）：用来选择有序集中的一个成员（比如字符串中的一个字符）的变量或值。遍历（traverse）：对集合中的每个元素进行迭代并执行类似的操作。计数器（counter）：对某些事物进行计数的变量，通常初始化为0然后再增加。增量（increment）：将变量的值加1。C++中的增量操作符是++。实际上，这也是C++这个名字的由来，它意味着比C好1。减量（decrement）：将变量的值减1。C++中的减量操作符是--。连接（concatenate）：将两个字符串首尾相连。"
   ]
  },
  {
   "cell_type": "code",
   "execution_count": null,
   "metadata": {},
   "outputs": [],
   "source": []
  },
  {
   "cell_type": "code",
   "execution_count": null,
   "metadata": {},
   "outputs": [],
   "source": []
  },
  {
   "cell_type": "code",
   "execution_count": null,
   "metadata": {},
   "outputs": [],
   "source": []
  },
  {
   "cell_type": "code",
   "execution_count": null,
   "metadata": {},
   "outputs": [],
   "source": []
  },
  {
   "cell_type": "code",
   "execution_count": null,
   "metadata": {},
   "outputs": [],
   "source": []
  }
 ],
 "metadata": {
  "kernelspec": {
   "display_name": "Python 3",
   "language": "python",
   "name": "python3"
  },
  "language_info": {
   "codemirror_mode": {
    "name": "ipython",
    "version": 3
   },
   "file_extension": ".py",
   "mimetype": "text/x-python",
   "name": "python",
   "nbconvert_exporter": "python",
   "pygments_lexer": "ipython3",
   "version": "3.6.5"
  }
 },
 "nbformat": 4,
 "nbformat_minor": 2
}
