{
 "cells": [
  {
   "cell_type": "markdown",
   "metadata": {},
   "source": [
    "伪代码（pseudocode）：一种通过混合使用自然语言和C++来写出程序草图的程序设计方式。辅助函数（helper function）：一般指本身并不是非常有用，但可以让其他函数更有用的小函数。自下而上的设计（bottom-up design）：一种程序开发方法，使用伪代码写出大问题解决方案的大体轮廓，并且设计出辅助函数的接口。归并排序（mergesort）：对一组数据进行排序的算法。归并排序比上一章的简单排序算法要快，对于大数据集尤为明显。"
   ]
  },
  {
   "cell_type": "code",
   "execution_count": null,
   "metadata": {},
   "outputs": [],
   "source": []
  },
  {
   "cell_type": "code",
   "execution_count": null,
   "metadata": {},
   "outputs": [],
   "source": []
  },
  {
   "cell_type": "code",
   "execution_count": null,
   "metadata": {},
   "outputs": [],
   "source": []
  }
 ],
 "metadata": {
  "kernelspec": {
   "display_name": "Python 3",
   "language": "python",
   "name": "python3"
  },
  "language_info": {
   "codemirror_mode": {
    "name": "ipython",
    "version": 3
   },
   "file_extension": ".py",
   "mimetype": "text/x-python",
   "name": "python",
   "nbconvert_exporter": "python",
   "pygments_lexer": "ipython3",
   "version": "3.6.5"
  }
 },
 "nbformat": 4,
 "nbformat_minor": 2
}
