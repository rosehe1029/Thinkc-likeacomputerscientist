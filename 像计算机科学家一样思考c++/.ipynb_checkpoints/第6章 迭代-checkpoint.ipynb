{
 "cells": [
  {
   "cell_type": "markdown",
   "metadata": {},
   "source": [
    "循环(loop)：当判断条件为真或者满足某些条件时，反复执行的语句。无限循环(infinite loop)：判断条件始终为真的函数。循环体(body)：循环内的语句。迭代(iteration)：循环体从头至尾的一次执行，包括判断条件的求值。制表符(tab)：一种特殊字符，C++用\\t表示，该字符使当前行的游标移至下一个制表位置。封装(encapsulate)：把大型复杂系统划分为各个组件（如函数），并使组件之间彼此隔离（比如使用局部变量）。局部变量(local variable)：函数内部声明的变量，生存期仅在函数内部。局部变量不能从其所属函数外部访问，也不会与其它函数相互影响。泛化(generalize)：用某些通用的量（如变量或参数）适当取代某些没必要特殊化的值（如常量）。泛化使代码更通用，更有机会重用，甚至有时更易写。开发计划(development plan)：开发程序的过程。我在本章阐释了这样一种开发方式，其基础流程是：首先开发简单的代码，使之能做指定的事情，然后进行封装和泛化。"
   ]
  },
  {
   "cell_type": "code",
   "execution_count": null,
   "metadata": {},
   "outputs": [],
   "source": []
  },
  {
   "cell_type": "code",
   "execution_count": null,
   "metadata": {},
   "outputs": [],
   "source": []
  },
  {
   "cell_type": "code",
   "execution_count": null,
   "metadata": {},
   "outputs": [],
   "source": []
  },
  {
   "cell_type": "code",
   "execution_count": null,
   "metadata": {},
   "outputs": [],
   "source": []
  },
  {
   "cell_type": "code",
   "execution_count": null,
   "metadata": {},
   "outputs": [],
   "source": []
  }
 ],
 "metadata": {
  "kernelspec": {
   "display_name": "Python 3",
   "language": "python",
   "name": "python3"
  },
  "language_info": {
   "codemirror_mode": {
    "name": "ipython",
    "version": 3
   },
   "file_extension": ".py",
   "mimetype": "text/x-python",
   "name": "python",
   "nbconvert_exporter": "python",
   "pygments_lexer": "ipython3",
   "version": "3.6.5"
  }
 },
 "nbformat": 4,
 "nbformat_minor": 2
}
