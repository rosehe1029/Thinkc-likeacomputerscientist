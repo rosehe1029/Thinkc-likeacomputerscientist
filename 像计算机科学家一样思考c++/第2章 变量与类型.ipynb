{
 "cells": [
  {
   "cell_type": "markdown",
   "metadata": {},
   "source": [
    "变量（variable）：一个有名字的存储位置。所有的变量都有一个类型，决定了它能存储的值。值（value）：一个字母或数字或其它可以被存储在变量中的东西。类型（type）：一组值。目前我们见到的类型有整型(C++中用int表示)，字符型（C++中用char表示）关键词（keyword）：编译器使用的保留字，用于解析程序。我们见过的例子包括int,void 和endl。语句（statement）：代表一个命令或者动作的代码行，目前为止，我们见过的语句包括声明、赋值和输出语句。声明（declaration）：创建变量并定义其类型的语句。赋值（assignment）：为变量指定值的语句。表达式（expression）：变量、表达式和值的组合。表达式同样具备类型，其类型由操作符和操作数决定。操作符（operator）：代表简单计算（如加法或乘法）的特殊符号。操作数（operand）：操作符操作的其中一个值。优先级（precedence）：操作执行的顺序。组合（composition）：将简单的表达式和语句组合成复合语句和表达式，以简明地表示复杂的计算。\n"
   ]
  },
  {
   "cell_type": "code",
   "execution_count": null,
   "metadata": {},
   "outputs": [],
   "source": []
  },
  {
   "cell_type": "code",
   "execution_count": null,
   "metadata": {},
   "outputs": [],
   "source": []
  },
  {
   "cell_type": "code",
   "execution_count": null,
   "metadata": {},
   "outputs": [],
   "source": []
  },
  {
   "cell_type": "code",
   "execution_count": null,
   "metadata": {},
   "outputs": [],
   "source": []
  }
 ],
 "metadata": {
  "kernelspec": {
   "display_name": "Python 3",
   "language": "python",
   "name": "python3"
  },
  "language_info": {
   "codemirror_mode": {
    "name": "ipython",
    "version": 3
   },
   "file_extension": ".py",
   "mimetype": "text/x-python",
   "name": "python",
   "nbconvert_exporter": "python",
   "pygments_lexer": "ipython3",
   "version": "3.6.5"
  }
 },
 "nbformat": 4,
 "nbformat_minor": 2
}
